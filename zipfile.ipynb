{
 "cells": [
  {
   "cell_type": "code",
   "execution_count": 1,
   "metadata": {},
   "outputs": [
    {
     "name": "stdout",
     "output_type": "stream",
     "text": [
      "None\n"
     ]
    }
   ],
   "source": [
    "from zipfile import PyZipFile\n",
    "from PIL import Image\n",
    "\n",
    "pzf_call = PyZipFile('test.zip') #pyz = PyZipfile class\n",
    "extracted_files = pzf_call.extractall()\n",
    "print(extracted_files) #became a function"
   ]
  },
  {
   "cell_type": "code",
   "execution_count": 10,
   "metadata": {},
   "outputs": [
    {
     "data": {
      "text/plain": [
       "{'output_697_43.png': {'pil_image': <PIL.Image.Image image mode=RGB size=372x248>},\n",
       " 'output_697_44.png': {'pil_image': <PIL.Image.Image image mode=RGB size=372x248>},\n",
       " 'output_697_45.png': {'pil_image': <PIL.Image.Image image mode=RGB size=372x248>},\n",
       " 'output_697_46.png': {'pil_image': <PIL.Image.Image image mode=RGB size=372x248>},\n",
       " 'output_697_47.png': {'pil_image': <PIL.Image.Image image mode=RGB size=372x248>},\n",
       " 'output_697_48.png': {'pil_image': <PIL.Image.Image image mode=RGB size=372x248>},\n",
       " 'output_697_49.png': {'pil_image': <PIL.Image.Image image mode=RGB size=376x248>},\n",
       " 'output_697_50.png': {'pil_image': <PIL.Image.Image image mode=RGB size=372x248>},\n",
       " 'output_697_51.png': {'pil_image': <PIL.Image.Image image mode=RGB size=372x248>}}"
      ]
     },
     "execution_count": 10,
     "metadata": {},
     "output_type": "execute_result"
    }
   ],
   "source": [
    "def make_pilimg_dict(zfile):\n",
    "    from zipfile import ZipFile\n",
    "    img_dict = {}\n",
    "\n",
    "    zf_class = ZipFile(zfile, mode='r')\n",
    "    finfo = ZipFile(zfile, mode='r').infolist() #ZipFile(zfile, mode='r').namelist()\n",
    "    for i in finfo:\n",
    "        img = Image.open(zf_class.open(name=i.filename)).convert('RGB')\n",
    "        #img_dict[i.filename] = {'pil_img':img}\n",
    "        img_dict[i.filename] = {'pil_image':img}\n",
    "    \n",
    "    return img_dict\n",
    "make_pilimg_dict('test.zip')"
   ]
  }
 ],
 "metadata": {
  "kernelspec": {
   "display_name": "Python 3",
   "language": "python",
   "name": "python3"
  },
  "language_info": {
   "codemirror_mode": {
    "name": "ipython",
    "version": 3
   },
   "file_extension": ".py",
   "mimetype": "text/x-python",
   "name": "python",
   "nbconvert_exporter": "python",
   "pygments_lexer": "ipython3",
   "version": "3.12.1"
  }
 },
 "nbformat": 4,
 "nbformat_minor": 2
}
